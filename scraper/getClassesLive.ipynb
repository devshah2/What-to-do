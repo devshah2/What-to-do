{
 "cells": [
  {
   "cell_type": "code",
   "execution_count": 113,
   "metadata": {},
   "outputs": [],
   "source": [
    "from selenium import webdriver\n",
    "from selenium.webdriver.common.by import By"
   ]
  },
  {
   "cell_type": "code",
   "execution_count": 114,
   "metadata": {},
   "outputs": [
    {
     "name": "stderr",
     "output_type": "stream",
     "text": [
      "C:\\Users\\shahd\\AppData\\Local\\Temp\\ipykernel_48440\\2299280398.py:1: DeprecationWarning: executable_path has been deprecated, please pass in a Service object\n",
      "  driver = webdriver.Chrome('./chromedriver')\n"
     ]
    }
   ],
   "source": [
    "driver = webdriver.Chrome('./chromedriver')"
   ]
  },
  {
   "cell_type": "code",
   "execution_count": 112,
   "metadata": {},
   "outputs": [],
   "source": [
    "# Login\n",
    "driver.get(\"https://class-descriptions.northwestern.edu/4890/MEAS/COMP_SCI/24451\")"
   ]
  },
  {
   "cell_type": "code",
   "execution_count": 106,
   "metadata": {},
   "outputs": [
    {
     "data": {
      "text/plain": [
       "1"
      ]
     },
     "execution_count": 106,
     "metadata": {},
     "output_type": "execute_result"
    }
   ],
   "source": [
    "lst = driver.find_elements(By.ID,\"expander-4890-MEAS-COMP_SCI\")\n",
    "len(lst)"
   ]
  },
  {
   "cell_type": "code",
   "execution_count": 107,
   "metadata": {},
   "outputs": [
    {
     "data": {
      "text/plain": [
       "100"
      ]
     },
     "execution_count": 107,
     "metadata": {},
     "output_type": "execute_result"
    }
   ],
   "source": [
    "# For first\n",
    "c=lst[0].find_elements(By.TAG_NAME,\"a\")\n",
    "len(c)"
   ]
  },
  {
   "cell_type": "code",
   "execution_count": 108,
   "metadata": {},
   "outputs": [
    {
     "name": "stdout",
     "output_type": "stream",
     "text": [
      "110-0 Introduction to Computer Programming\n",
      "1: Introduction to Computer Programming\n",
      "2: Introduction to Computer Programming\n",
      "111-0 Fundamentals of Computer Programming\n",
      "\n",
      "150-0 Fundamentals of Computer Programming 1.5\n",
      "\n",
      "\n",
      "211-0 Fundamentals of Computer Programming II\n",
      "\n",
      "\n",
      "212-0 Mathematical Foundations of Comp Science\n",
      "\n",
      "213-0 Introduction to Computer Systems\n",
      "\n",
      "214-0 Data Structures & Algorithms\n",
      "\n",
      "\n",
      "217-0 Data Management & Information Processing\n",
      "\n",
      "301-0 Introduction to Robotics Laboratory\n",
      "\n",
      "314-0 Technology and Human Interaction\n",
      "\n",
      "315-0 Design, Technology, and Research\n",
      "\n",
      "321-0 Programming Languages\n",
      "\n",
      "322-0 Compiler Construction\n",
      "\n",
      "329-0 HCI Studio\n",
      "\n",
      "332-0 Online Markets\n",
      "\n",
      "336-0 Design & Analysis of Algorithms\n",
      "\n",
      "337-0 Natural Language Processing\n",
      "\n",
      "339-0 Introduction to Database Systems\n",
      "\n",
      "340-0 Introduction to Networking\n",
      "\n",
      "343-0 Operating Systems\n",
      "\n",
      "344-0 Design of Computer Problem Solvers\n",
      "\n",
      "349-0 Machine Learning\n",
      "\n",
      "351-2 Intermediate Computer Graphics\n",
      "\n",
      "354-0 Computer System Security\n",
      "\n",
      "368-0 Programming Massively Parallel Processors with CUDA\n",
      "\n",
      "371-0 Knowledge Representation and Reasoning\n",
      "1: Knowledge Representation and Reasoning\n",
      "377-0 Game Design Studio\n",
      "\n",
      "394-0 Agile Software Development\n",
      "\n",
      "396-0 Special Topics in Computer Science\n",
      "\n",
      "\n",
      "\n",
      "\n",
      "397-0 Special Projects in Computer Science\n",
      "\n",
      "\n",
      "\n",
      "\n",
      "\n",
      "\n",
      "\n",
      "410-0 Autonomous Quadrotor Design and Control\n",
      "\n",
      "415-0 Design, Technology, and Research\n",
      "\n",
      "445-0 Internet-scale Experimentation\n",
      "\n",
      "449-0 Deep Learning\n",
      "\n",
      "450-0 Internet Security\n",
      "\n",
      "468-0 Programming Massively Parallel Processors with CUDA\n",
      "\n",
      "496-0 Special Topics in Computer Science\n",
      "\n",
      "\n",
      "\n",
      "\n",
      "\n",
      "497-0 Special Projects in Computer Science\n",
      "\n",
      "\n",
      "\n",
      "\n",
      "\n",
      "\n",
      "\n",
      "\n"
     ]
    }
   ],
   "source": [
    "for i in c:\n",
    "    print(i.text)"
   ]
  },
  {
   "cell_type": "code",
   "execution_count": null,
   "metadata": {},
   "outputs": [],
   "source": []
  },
  {
   "cell_type": "code",
   "execution_count": null,
   "metadata": {},
   "outputs": [],
   "source": []
  },
  {
   "cell_type": "code",
   "execution_count": null,
   "metadata": {},
   "outputs": [],
   "source": []
  }
 ],
 "metadata": {
  "kernelspec": {
   "display_name": "Python 3.10.8 64-bit (microsoft store)",
   "language": "python",
   "name": "python3"
  },
  "language_info": {
   "codemirror_mode": {
    "name": "ipython",
    "version": 3
   },
   "file_extension": ".py",
   "mimetype": "text/x-python",
   "name": "python",
   "nbconvert_exporter": "python",
   "pygments_lexer": "ipython3",
   "version": "3.10.8"
  },
  "orig_nbformat": 4,
  "vscode": {
   "interpreter": {
    "hash": "252a96aad647c7060075ad65005bf569998017e265935679af6b44aa4620e047"
   }
  }
 },
 "nbformat": 4,
 "nbformat_minor": 2
}
