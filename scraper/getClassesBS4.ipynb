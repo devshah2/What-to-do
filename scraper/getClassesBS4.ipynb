{
 "cells": [
  {
   "cell_type": "code",
   "execution_count": 1,
   "metadata": {},
   "outputs": [],
   "source": [
    "from bs4 import BeautifulSoup\n",
    "import datetime\n",
    "import requests\n",
    "import pickle"
   ]
  },
  {
   "cell_type": "code",
   "execution_count": 2,
   "metadata": {},
   "outputs": [],
   "source": [
    "URL = \"https://class-descriptions.northwestern.edu/4890/MEAS/COMP_SCI\"\n",
    "r = requests.get(URL)"
   ]
  },
  {
   "cell_type": "code",
   "execution_count": 3,
   "metadata": {},
   "outputs": [],
   "source": [
    "soup=BeautifulSoup(r.content)\n",
    "classes=soup.find('div',attrs={\"class\":\"expander expander1\"})\n"
   ]
  },
  {
   "cell_type": "code",
   "execution_count": 18,
   "metadata": {},
   "outputs": [],
   "source": [
    "classesLinks=[x.find('a')[\"href\"] for x in classes.find_all('li')]\n",
    "classesTitles=[\" \".join(x.text.strip().replace(\" \",\" \").replace(\"\\n\",\"\").split()) for x in classes.find_all('li')]"
   ]
  },
  {
   "cell_type": "code",
   "execution_count": 5,
   "metadata": {},
   "outputs": [],
   "source": [
    "def getInfo(c):\n",
    "    c=\"https://class-descriptions.northwestern.edu/4890/MEAS\"+'/'+c\n",
    "    c = requests.get(c)\n",
    "    cSoup=BeautifulSoup(c.content)\n",
    "    for x in cSoup.find_all('p'):\n",
    "        if(\":\" in x.text and \"-\" in x.text):\n",
    "            return x.text.replace(\"\\n\",\"\").strip()\n",
    "    return cSoup.find_all('p')[1].text.replace(\"\\n\",\"\").strip()"
   ]
  },
  {
   "cell_type": "code",
   "execution_count": 6,
   "metadata": {},
   "outputs": [],
   "source": [
    "informations=[getInfo(x) for x in classesLinks]"
   ]
  },
  {
   "cell_type": "code",
   "execution_count": 7,
   "metadata": {},
   "outputs": [],
   "source": [
    "locations=[x[:x.index(\":\"):] for x in informations]\n",
    "\n",
    "dayKey={\"Mon\":0,\"Tues\":1,\"Wed\":2,\"Thurs\":3,\"Fri\":4,\"Sat\":5,\"Sun\":6}\n",
    "\n",
    "days=[x[x.index(\":\")+2:len(x)-x[::-1].index(\",\")-1] for x in informations]\n",
    "days=[cDays.replace(' ','').split(',') for cDays in days]\n",
    "days=[[dayKey[day] for day in cDays] for cDays in days]\n",
    "\n",
    "timings=[x[len(x)-x[::-1].index(\",\"):].replace(\" \",\"\").split('-') for x in informations]"
   ]
  },
  {
   "cell_type": "code",
   "execution_count": 96,
   "metadata": {},
   "outputs": [],
   "source": [
    "def query(today=datetime.datetime.today().weekday(), totime=datetime.datetime.today().time()):\n",
    "    results=[]\n",
    "    startTimes=[]\n",
    "    for ind, i in enumerate(days):\n",
    "        frm=datetime.datetime.strptime(timings[ind][0],'%I:%M%p').time()\n",
    "        to=datetime.datetime.strptime(timings[ind][0],'%I:%M%p').time()\n",
    "        if(today in i and to>=totime):\n",
    "            startTimes.append(frm)\n",
    "            results.append([classesTitles[ind],locations[ind]])\n",
    "    i=[]\n",
    "    for i in zip( *sorted( zip(startTimes, results) ) ):\n",
    "        pass\n",
    "    sortArr = i\n",
    "    return sortArr"
   ]
  },
  {
   "cell_type": "code",
   "execution_count": 76,
   "metadata": {},
   "outputs": [
    {
     "data": {
      "text/plain": [
       "(['1: Game Design Studio - Robert Zubek - Mon, Wed, 6:00PM - 7:20PM',\n",
       "  'Annenberg Hall G15'],)"
      ]
     },
     "execution_count": 76,
     "metadata": {},
     "output_type": "execute_result"
    }
   ],
   "source": [
    "query(2)"
   ]
  },
  {
   "cell_type": "code",
   "execution_count": 88,
   "metadata": {},
   "outputs": [],
   "source": [
    "with open('classesLinks.pkl', 'rb') as f: classesLinks=pickle.load(f)\n",
    "with open('classesTitles.pkl', 'rb') as f: classesTitles=pickle.load(f)\n",
    "with open('locations.pkl', 'rb') as f: locations=pickle.load(f)\n",
    "with open('days.pkl', 'rb') as f: days=pickle.load(f)\n",
    "with open('timings.pkl', 'rb') as f: timings=pickle.load(f)"
   ]
  },
  {
   "cell_type": "code",
   "execution_count": 98,
   "metadata": {},
   "outputs": [
    {
     "data": {
      "text/plain": [
       "(['1: Game Design Studio - Robert Zubek - Mon, Wed, 6:00PM - 7:20PM',\n",
       "  'Annenberg Hall G15'],\n",
       " ['9: Computer Science Education - Special Projects in Computer Science - Michael Stephen Horn - Paula Kay Hooper - Mon, 6:30PM - 9:20PM',\n",
       "  'Annenberg Hall 303'])"
      ]
     },
     "execution_count": 98,
     "metadata": {},
     "output_type": "execute_result"
    }
   ],
   "source": [
    "query(0)"
   ]
  },
  {
   "cell_type": "code",
   "execution_count": null,
   "metadata": {},
   "outputs": [],
   "source": []
  }
 ],
 "metadata": {
  "kernelspec": {
   "display_name": "Python 3.10.8 64-bit (microsoft store)",
   "language": "python",
   "name": "python3"
  },
  "language_info": {
   "codemirror_mode": {
    "name": "ipython",
    "version": 3
   },
   "file_extension": ".py",
   "mimetype": "text/x-python",
   "name": "python",
   "nbconvert_exporter": "python",
   "pygments_lexer": "ipython3",
   "version": "3.10.8"
  },
  "orig_nbformat": 4,
  "vscode": {
   "interpreter": {
    "hash": "252a96aad647c7060075ad65005bf569998017e265935679af6b44aa4620e047"
   }
  }
 },
 "nbformat": 4,
 "nbformat_minor": 2
}
