{
 "cells": [
  {
   "cell_type": "code",
   "execution_count": 1,
   "metadata": {},
   "outputs": [],
   "source": [
    "from bs4 import BeautifulSoup"
   ]
  },
  {
   "cell_type": "code",
   "execution_count": 2,
   "metadata": {},
   "outputs": [],
   "source": [
    "import requests\n",
    "URL = \"https://class-descriptions.northwestern.edu/4890/MEAS/COMP_SCI\"\n",
    "r = requests.get(URL)"
   ]
  },
  {
   "cell_type": "code",
   "execution_count": 3,
   "metadata": {},
   "outputs": [],
   "source": [
    "soup=BeautifulSoup(r.content)\n",
    "classes=soup.find('div',attrs={\"class\":\"expander expander1\"})\n"
   ]
  },
  {
   "cell_type": "code",
   "execution_count": 18,
   "metadata": {},
   "outputs": [],
   "source": [
    "classesLinks=[x.find('a')[\"href\"] for x in classes.find_all('li')]\n",
    "classesTitles=[\" \".join(x.text.strip().replace(\" \",\" \").replace(\"\\n\",\"\").split()) for x in classes.find_all('li')]"
   ]
  },
  {
   "cell_type": "code",
   "execution_count": 5,
   "metadata": {},
   "outputs": [],
   "source": [
    "def getInfo(c):\n",
    "    c=\"https://class-descriptions.northwestern.edu/4890/MEAS\"+'/'+c\n",
    "    c = requests.get(c)\n",
    "    cSoup=BeautifulSoup(c.content)\n",
    "    for x in cSoup.find_all('p'):\n",
    "        if(\":\" in x.text and \"-\" in x.text):\n",
    "            return x.text.replace(\"\\n\",\"\").strip()\n",
    "    return cSoup.find_all('p')[1].text.replace(\"\\n\",\"\").strip()"
   ]
  },
  {
   "cell_type": "code",
   "execution_count": 6,
   "metadata": {},
   "outputs": [],
   "source": [
    "informations=[getInfo(x) for x in classesLinks]"
   ]
  },
  {
   "cell_type": "code",
   "execution_count": 7,
   "metadata": {},
   "outputs": [],
   "source": [
    "locations=[x[:x.index(\":\"):] for x in informations]\n",
    "\n",
    "dayKey={\"Mon\":0,\"Tues\":1,\"Wed\":2,\"Thurs\":3,\"Fri\":4,\"Sat\":5,\"Sun\":6}\n",
    "\n",
    "days=[x[x.index(\":\")+2:len(x)-x[::-1].index(\",\")-1] for x in informations]\n",
    "days=[cDays.replace(' ','').split(',') for cDays in days]\n",
    "days=[[dayKey[day] for day in cDays] for cDays in days]\n",
    "\n",
    "timings=[x[len(x)-x[::-1].index(\",\"):].replace(\" \",\"\").split('-') for x in informations]"
   ]
  },
  {
   "cell_type": "code",
   "execution_count": 12,
   "metadata": {},
   "outputs": [
    {
     "data": {
      "text/plain": [
       "[[0, 2, 4],\n",
       " [0, 2, 4],\n",
       " [0, 2, 4],\n",
       " [0, 2, 4],\n",
       " [0, 2, 4],\n",
       " [1, 3],\n",
       " [1, 3],\n",
       " [0, 2, 4],\n",
       " [0, 2],\n",
       " [1, 3],\n",
       " [1, 3],\n",
       " [1, 3],\n",
       " [1, 3],\n",
       " [1, 3],\n",
       " [4],\n",
       " [1, 3],\n",
       " [1, 3],\n",
       " [0, 2],\n",
       " [0, 2],\n",
       " [1, 3],\n",
       " [0, 2],\n",
       " [1, 3],\n",
       " [1, 3],\n",
       " [0, 2],\n",
       " [1, 3],\n",
       " [1, 3],\n",
       " [0, 2, 4],\n",
       " [0, 2],\n",
       " [1, 3],\n",
       " [1, 3],\n",
       " [0, 2],\n",
       " [0, 2],\n",
       " [1, 3],\n",
       " [1, 3],\n",
       " [1, 3],\n",
       " [1, 3],\n",
       " [1, 3],\n",
       " [1],\n",
       " [1, 3],\n",
       " [0, 2],\n",
       " [1, 3],\n",
       " [1],\n",
       " [0],\n",
       " [3],\n",
       " [4],\n",
       " [1, 3],\n",
       " [0, 2, 4],\n",
       " [0, 2],\n",
       " [1, 3],\n",
       " [1, 3],\n",
       " [1, 3],\n",
       " [1, 3],\n",
       " [0],\n",
       " [2],\n",
       " [1, 3],\n",
       " [1],\n",
       " [1, 3],\n",
       " [0, 2],\n",
       " [1, 3],\n",
       " [1],\n",
       " [0, 2],\n",
       " [1, 3]]"
      ]
     },
     "execution_count": 12,
     "metadata": {},
     "output_type": "execute_result"
    }
   ],
   "source": [
    "days"
   ]
  },
  {
   "cell_type": "code",
   "execution_count": 36,
   "metadata": {},
   "outputs": [],
   "source": [
    "import datetime\n",
    "results=[]\n",
    "today=datetime.datetime.today().weekday()-1\n",
    "totime=datetime.datetime.today().time()\n",
    "for ind, i in enumerate(days):\n",
    "    # frm=datetime.datetime.strptime(timings[ind][0],'%I:%M%p').time()\n",
    "    to=datetime.datetime.strptime(timings[ind][0],'%I:%M%p').time()\n",
    "    if(today in i and to>=totime):\n",
    "        results.append([classesTitles[ind],locations[ind]])\n"
   ]
  },
  {
   "cell_type": "code",
   "execution_count": 37,
   "metadata": {},
   "outputs": [
    {
     "data": {
      "text/plain": [
       "[['1: Compiler Construction - Simone Campanoni - Tues, Thurs, 5:00PM - 6:20PM',\n",
       "  'Tech Institute Lecture Room 5'],\n",
       " ['5: Wireless and Mobile Health (mHealth) - Special Projects in Computer Science - Nabil Iyad Alshurafa - Mahdi Pedram - Tues, Thurs, 5:00PM - 6:20PM',\n",
       "  'Technological Institute M345'],\n",
       " ['5: Wireless and Mobile Health (mHealth) - Special Projects in Computer Science - Nabil Iyad Alshurafa - Mahdi Pedram - Tues, Thurs, 5:00PM - 6:20PM',\n",
       "  'Technological Institute M345']]"
      ]
     },
     "execution_count": 37,
     "metadata": {},
     "output_type": "execute_result"
    }
   ],
   "source": [
    "results"
   ]
  },
  {
   "cell_type": "code",
   "execution_count": null,
   "metadata": {},
   "outputs": [],
   "source": []
  }
 ],
 "metadata": {
  "kernelspec": {
   "display_name": "Python 3.10.8 64-bit (microsoft store)",
   "language": "python",
   "name": "python3"
  },
  "language_info": {
   "codemirror_mode": {
    "name": "ipython",
    "version": 3
   },
   "file_extension": ".py",
   "mimetype": "text/x-python",
   "name": "python",
   "nbconvert_exporter": "python",
   "pygments_lexer": "ipython3",
   "version": "3.10.8"
  },
  "orig_nbformat": 4,
  "vscode": {
   "interpreter": {
    "hash": "252a96aad647c7060075ad65005bf569998017e265935679af6b44aa4620e047"
   }
  }
 },
 "nbformat": 4,
 "nbformat_minor": 2
}
