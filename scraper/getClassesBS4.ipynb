{
 "cells": [
  {
   "cell_type": "code",
   "execution_count": 99,
   "metadata": {},
   "outputs": [],
   "source": [
    "from bs4 import BeautifulSoup\n",
    "import datetime\n",
    "import requests\n",
    "import pickle"
   ]
  },
  {
   "cell_type": "code",
   "execution_count": 100,
   "metadata": {},
   "outputs": [],
   "source": [
    "URL = \"https://class-descriptions.northwestern.edu/4880/WCAS/PHIL\"\n",
    "r = requests.get(URL)"
   ]
  },
  {
   "cell_type": "code",
   "execution_count": 101,
   "metadata": {},
   "outputs": [],
   "source": [
    "soup=BeautifulSoup(r.content)\n",
    "classes=soup.find('div',attrs={\"class\":\"expander expander1\"})\n"
   ]
  },
  {
   "cell_type": "code",
   "execution_count": 121,
   "metadata": {},
   "outputs": [],
   "source": [
    "classesLinks=[x.find('a')[\"href\"] for x in classes.find_all('li')]\n",
    "classesTitles=[\" \".join(x.text.strip().replace(\" \",\" \").replace(\"\\n\",\"\").split()) for x in classes.find_all('li')]"
   ]
  },
  {
   "cell_type": "code",
   "execution_count": 122,
   "metadata": {},
   "outputs": [],
   "source": [
    "def getInfo(c):\n",
    "    c=\"/\".join(URL.split(\"/\")[:-1])+'/'+c\n",
    "    c = requests.get(c)\n",
    "    cSoup=BeautifulSoup(c.content)\n",
    "    for x in cSoup.find_all('p'):\n",
    "        if(\":\" in x.text and \"-\" in x.text and (\"am\" in x.text or \"pm\" in x.text)):\n",
    "            return x.text.replace(\"\\n\",\"\").strip()\n",
    "    return cSoup.find_all('p')[1].text.replace(\"\\n\",\"\").strip()"
   ]
  },
  {
   "cell_type": "code",
   "execution_count": 123,
   "metadata": {},
   "outputs": [],
   "source": [
    "informations=[getInfo(x) for x in classesLinks]"
   ]
  },
  {
   "cell_type": "code",
   "execution_count": 124,
   "metadata": {},
   "outputs": [
    {
     "data": {
      "text/plain": [
       "['Kresge 3438 Philosophy Sem. Rm: Tues, Thurs,  11:00AM - 12:20PM',\n",
       " 'Kresge 3438 Philosophy Sem. Rm: Tues, Thurs,  2:00PM - 3:20PM',\n",
       " 'In this seminar we will examine some of the fundamental ideas and questions behind democracy and provide a reading of their \"inventors\". Some of the questions are: What is democracy? Is it a form of government, a value, an ideal, a political system, a form of life, a bit of all this? Is democracy always the best political solution (in wartime? general starvation?)? Why should the whole of the people decide and not the specialists in the respective questions? Are all democratically taken decisions automatically legitimate (what about minorities\\\\\\' rights?)? How should all citizens in a democracy participate in politics? By direct self-government of the people or by voting representatives? Is everything democratically decidable or does the individual have unalterable rights? Is tolerance and/or free speech necessary for democracy and how far can it go?',\n",
       " 'In a slogan, logic is about what follows from what. It concerns when information is guaranteed to be true because of how it is related to other true information. To learn a logic is to learn a formal language with its own rules (like a math or programming language), and to develop skill using this formal language. A logic is then used to figure out whether arguments are good or bad in roughly two steps. First, the argument is represented in a logic. Second, the argument is assessed by seeing whether it is constructed in a way where the argument\\'s conclusion follows. Good arguments have conclusions that are guaranteed to be true when the premises are true because of how they are constructed; bad arguments do not. In this course, you will learn two logics: truth-functional logic and first-order logic. Truth-functional logic concerns arguments involving \"and,\" \"or,\" \"if,\" and \"not.\" First-order logic builds on truth-functional logic to concern complex arguments involving \"every\", \"none,\" and \"some.\"',\n",
       " 'HS Thayer: Pragmatism: The Classic Writings ISBN: 978-0915145379 [Norris Center Bookstore]A course-reader will be available from Quartet. Reader will contain selections from:Morris, Charles: \"The Occasion for American Pragmatism \".Peirce, Charles S.: \"Questions Concerning Certain Faculties Claimed for Man\".Peirce, Charles S.: \"Some Consequences of Four Incapacities\".Dewey, John (1920): \"Changed Conceptions of Experience and Reason\", ch.4 of Reconstruction in Philosophy (1920).Dewey, John (1916): \"Philosophy and Democracy\".Locke, Alain (1935): \"Values and Imperatives\".Jane Addams (1907): \"Newer Ideals of Peace\".Rorty, Richard: \"Solidarity or Objectivity?\".Putnam, Hilary: \"Pragmatism in the Contemporary Debate\".',\n",
       " 'Fisk Hall 217: Mon, Wed,  2:00PM - 3:20PM',\n",
       " 'Kresge Centennial Hall 2-415: Tues, Thurs,  9:30AM - 10:50AM',\n",
       " 'Harris Hall 107: Tues, Thurs,  3:30PM - 4:50PM',\n",
       " 'This is the first in a sequence of three courses required of sophomores in the Brady Scholars Program in Ethics and Civic Life.  Our topic, the good life, will be explored by reading and discussing several recent books, as well as authors of antiquity (Epictetus and Marcus Aurelius).  We will ask: Are there objective truths about what is valuable - or about anything?  Does life have a point or meaning, or is life absurd? What should one try to get out of life? Are meaning and happiness different goals? How should we think about death?  Is each person the final judge of what is good for that individual, or is it possible to be mistaken about where one\\'s good lies?  What is the relationship between living well and being moral?  How important is pleasure? Since more good is better than less, should we aim at all times to promote \"the greatest happiness of the greatest number\"?',\n",
       " 'University Hall 122: Mon, Wed,  2:00PM - 3:20PM',\n",
       " 'University Hall 122: Mon, Wed,  2:00PM - 3:20PM',\n",
       " 'Benjamin Lipscomb.  The Women are Up to Something.  Oxford.  2022.ISBN-13: 978-0197541074ISBN-10: 0197541070',\n",
       " 'Benjamin Lipscomb.  The Women are Up to Something.  Oxford.  2022.ISBN-13: 978-0197541074ISBN-10: 0197541070',\n",
       " 'Parkes Hall 224: Tues, Thurs,  11:00AM - 12:20PM',\n",
       " 'Parkes Hall 224: Tues, Thurs,  11:00AM - 12:20PM',\n",
       " 'TBA: TBA',\n",
       " 'Joshua Seth Kleinfeld                                                                312/503-2824                                                                LM211                                                                Office Hours: Thursdays 3-5pm',\n",
       " 'Joshua Seth Kleinfeld                                                                312/503-2824                                                                LM211                                                                Office Hours: Thursdays 3-5pm',\n",
       " 'TBA: TBA',\n",
       " 'TBA: TBA',\n",
       " 'TBA: TBA',\n",
       " 'TBA: TBA',\n",
       " 'TBA: TBA',\n",
       " 'TBA: TBA',\n",
       " 'TBA: TBA',\n",
       " 'TBA: TBA',\n",
       " 'TBA: TBA',\n",
       " 'TBA: TBA',\n",
       " 'TBA: TBA',\n",
       " 'TBA: TBA',\n",
       " 'TBA: TBA',\n",
       " 'TBA: TBA',\n",
       " 'TBA: TBA',\n",
       " 'TBA: TBA',\n",
       " 'TBA: TBA',\n",
       " '(847) 491-5234',\n",
       " '(847) 491-5234',\n",
       " 'TBA: TBA',\n",
       " 'TBA: TBA',\n",
       " 'TBA: TBA',\n",
       " 'TBA: TBA',\n",
       " 'TBA: TBA',\n",
       " 'TBA: TBA',\n",
       " 'TBA: TBA',\n",
       " 'TBA: TBA',\n",
       " 'TBA: TBA',\n",
       " 'TBA: TBA',\n",
       " 'TBA: TBA',\n",
       " 'TBA: TBA',\n",
       " 'TBA: TBA',\n",
       " 'TBA: TBA',\n",
       " 'TBA: TBA',\n",
       " 'TBA: TBA',\n",
       " 'Meets in Non-General PurposeRm: Mon,  4:10PM - 6:00PM',\n",
       " 'Scott Hall 201 Ripton Room: Thurs,  9:00AM - 11:50AM',\n",
       " 'Kresge Centennial Hall 3-410: Tues,  4:00PM - 6:50PM']"
      ]
     },
     "execution_count": 124,
     "metadata": {},
     "output_type": "execute_result"
    }
   ],
   "source": [
    "informations"
   ]
  },
  {
   "cell_type": "code",
   "execution_count": 125,
   "metadata": {},
   "outputs": [
    {
     "ename": "ValueError",
     "evalue": "substring not found",
     "output_type": "error",
     "traceback": [
      "\u001b[1;31m---------------------------------------------------------------------------\u001b[0m",
      "\u001b[1;31mValueError\u001b[0m                                Traceback (most recent call last)",
      "Cell \u001b[1;32mIn [125], line 1\u001b[0m\n\u001b[1;32m----> 1\u001b[0m locations\u001b[39m=\u001b[39m[x[:x\u001b[39m.\u001b[39mindex(\u001b[39m\"\u001b[39m\u001b[39m:\u001b[39m\u001b[39m\"\u001b[39m):] \u001b[39mfor\u001b[39;00m x \u001b[39min\u001b[39;00m informations]\n\u001b[0;32m      3\u001b[0m dayKey\u001b[39m=\u001b[39m{\u001b[39m\"\u001b[39m\u001b[39mMon\u001b[39m\u001b[39m\"\u001b[39m:\u001b[39m0\u001b[39m,\u001b[39m\"\u001b[39m\u001b[39mTues\u001b[39m\u001b[39m\"\u001b[39m:\u001b[39m1\u001b[39m,\u001b[39m\"\u001b[39m\u001b[39mWed\u001b[39m\u001b[39m\"\u001b[39m:\u001b[39m2\u001b[39m,\u001b[39m\"\u001b[39m\u001b[39mThurs\u001b[39m\u001b[39m\"\u001b[39m:\u001b[39m3\u001b[39m,\u001b[39m\"\u001b[39m\u001b[39mFri\u001b[39m\u001b[39m\"\u001b[39m:\u001b[39m4\u001b[39m,\u001b[39m\"\u001b[39m\u001b[39mSat\u001b[39m\u001b[39m\"\u001b[39m:\u001b[39m5\u001b[39m,\u001b[39m\"\u001b[39m\u001b[39mSun\u001b[39m\u001b[39m\"\u001b[39m:\u001b[39m6\u001b[39m}\n\u001b[0;32m      5\u001b[0m days\u001b[39m=\u001b[39m[x[x\u001b[39m.\u001b[39mindex(\u001b[39m\"\u001b[39m\u001b[39m:\u001b[39m\u001b[39m\"\u001b[39m)\u001b[39m+\u001b[39m\u001b[39m2\u001b[39m:\u001b[39mlen\u001b[39m(x)\u001b[39m-\u001b[39mx[::\u001b[39m-\u001b[39m\u001b[39m1\u001b[39m]\u001b[39m.\u001b[39mindex(\u001b[39m\"\u001b[39m\u001b[39m,\u001b[39m\u001b[39m\"\u001b[39m)\u001b[39m-\u001b[39m\u001b[39m1\u001b[39m] \u001b[39mfor\u001b[39;00m x \u001b[39min\u001b[39;00m informations]\n",
      "Cell \u001b[1;32mIn [125], line 1\u001b[0m, in \u001b[0;36m<listcomp>\u001b[1;34m(.0)\u001b[0m\n\u001b[1;32m----> 1\u001b[0m locations\u001b[39m=\u001b[39m[x[:x\u001b[39m.\u001b[39;49mindex(\u001b[39m\"\u001b[39;49m\u001b[39m:\u001b[39;49m\u001b[39m\"\u001b[39;49m):] \u001b[39mfor\u001b[39;00m x \u001b[39min\u001b[39;00m informations]\n\u001b[0;32m      3\u001b[0m dayKey\u001b[39m=\u001b[39m{\u001b[39m\"\u001b[39m\u001b[39mMon\u001b[39m\u001b[39m\"\u001b[39m:\u001b[39m0\u001b[39m,\u001b[39m\"\u001b[39m\u001b[39mTues\u001b[39m\u001b[39m\"\u001b[39m:\u001b[39m1\u001b[39m,\u001b[39m\"\u001b[39m\u001b[39mWed\u001b[39m\u001b[39m\"\u001b[39m:\u001b[39m2\u001b[39m,\u001b[39m\"\u001b[39m\u001b[39mThurs\u001b[39m\u001b[39m\"\u001b[39m:\u001b[39m3\u001b[39m,\u001b[39m\"\u001b[39m\u001b[39mFri\u001b[39m\u001b[39m\"\u001b[39m:\u001b[39m4\u001b[39m,\u001b[39m\"\u001b[39m\u001b[39mSat\u001b[39m\u001b[39m\"\u001b[39m:\u001b[39m5\u001b[39m,\u001b[39m\"\u001b[39m\u001b[39mSun\u001b[39m\u001b[39m\"\u001b[39m:\u001b[39m6\u001b[39m}\n\u001b[0;32m      5\u001b[0m days\u001b[39m=\u001b[39m[x[x\u001b[39m.\u001b[39mindex(\u001b[39m\"\u001b[39m\u001b[39m:\u001b[39m\u001b[39m\"\u001b[39m)\u001b[39m+\u001b[39m\u001b[39m2\u001b[39m:\u001b[39mlen\u001b[39m(x)\u001b[39m-\u001b[39mx[::\u001b[39m-\u001b[39m\u001b[39m1\u001b[39m]\u001b[39m.\u001b[39mindex(\u001b[39m\"\u001b[39m\u001b[39m,\u001b[39m\u001b[39m\"\u001b[39m)\u001b[39m-\u001b[39m\u001b[39m1\u001b[39m] \u001b[39mfor\u001b[39;00m x \u001b[39min\u001b[39;00m informations]\n",
      "\u001b[1;31mValueError\u001b[0m: substring not found"
     ]
    }
   ],
   "source": [
    "locations=[x[:x.index(\":\"):] for x in informations]\n",
    "\n",
    "dayKey={\"Mon\":0,\"Tues\":1,\"Wed\":2,\"Thurs\":3,\"Fri\":4,\"Sat\":5,\"Sun\":6}\n",
    "\n",
    "days=[x[x.index(\":\")+2:len(x)-x[::-1].index(\",\")-1] for x in informations]\n",
    "days=[cDays.replace(' ','').split(',') for cDays in days]\n",
    "days=[[dayKey[day] for day in cDays] for cDays in days]\n",
    "\n",
    "timings=[x[len(x)-x[::-1].index(\",\"):].replace(\" \",\"\").split('-') for x in informations]"
   ]
  },
  {
   "cell_type": "code",
   "execution_count": 112,
   "metadata": {},
   "outputs": [],
   "source": [
    "def query(today=datetime.datetime.today().weekday(), totime=datetime.datetime.today().time()):\n",
    "    results=[]\n",
    "    startTimes=[]\n",
    "    for ind, i in enumerate(days):\n",
    "        frm=datetime.datetime.strptime(timings[ind][0],'%I:%M%p').time()\n",
    "        to=datetime.datetime.strptime(timings[ind][0],'%I:%M%p').time()\n",
    "        if(today in i and to>=totime):\n",
    "            startTimes.append(frm)\n",
    "            results.append([classesTitles[ind],locations[ind]])\n",
    "    i=[]\n",
    "    for i in zip( *sorted( zip(startTimes, results) ) ):\n",
    "        pass\n",
    "    sortArr = i\n",
    "    return sortArr"
   ]
  },
  {
   "cell_type": "code",
   "execution_count": 119,
   "metadata": {},
   "outputs": [
    {
     "data": {
      "text/plain": [
       "[]"
      ]
     },
     "execution_count": 119,
     "metadata": {},
     "output_type": "execute_result"
    }
   ],
   "source": [
    "query(4)"
   ]
  },
  {
   "cell_type": "code",
   "execution_count": 114,
   "metadata": {},
   "outputs": [],
   "source": [
    "with open('classesLinks.pkl', 'rb') as f: classesLinks=pickle.load(f)\n",
    "with open('classesTitles.pkl', 'rb') as f: classesTitles=pickle.load(f)\n",
    "with open('locations.pkl', 'rb') as f: locations=pickle.load(f)\n",
    "with open('days.pkl', 'rb') as f: days=pickle.load(f)\n",
    "with open('timings.pkl', 'rb') as f: timings=pickle.load(f)"
   ]
  },
  {
   "cell_type": "code",
   "execution_count": 116,
   "metadata": {},
   "outputs": [
    {
     "data": {
      "text/plain": [
       "(['1: Game Design Studio - Robert Zubek - Mon, Wed, 6:00PM - 7:20PM',\n",
       "  'Annenberg Hall G15'],\n",
       " ['9: Computer Science Education - Special Projects in Computer Science - Michael Stephen Horn - Paula Kay Hooper - Mon, 6:30PM - 9:20PM',\n",
       "  'Annenberg Hall 303'])"
      ]
     },
     "execution_count": 116,
     "metadata": {},
     "output_type": "execute_result"
    }
   ],
   "source": [
    "query(0)"
   ]
  },
  {
   "cell_type": "code",
   "execution_count": null,
   "metadata": {},
   "outputs": [],
   "source": []
  }
 ],
 "metadata": {
  "kernelspec": {
   "display_name": "Python 3.10.8 64-bit (microsoft store)",
   "language": "python",
   "name": "python3"
  },
  "language_info": {
   "codemirror_mode": {
    "name": "ipython",
    "version": 3
   },
   "file_extension": ".py",
   "mimetype": "text/x-python",
   "name": "python",
   "nbconvert_exporter": "python",
   "pygments_lexer": "ipython3",
   "version": "3.10.8"
  },
  "orig_nbformat": 4,
  "vscode": {
   "interpreter": {
    "hash": "252a96aad647c7060075ad65005bf569998017e265935679af6b44aa4620e047"
   }
  }
 },
 "nbformat": 4,
 "nbformat_minor": 2
}
